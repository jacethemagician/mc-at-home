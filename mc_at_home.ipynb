{
 "cells": [
  {
   "cell_type": "markdown",
   "metadata": {},
   "source": [
    "# Pricing a Snowball Option Using Monte Carlo Simulation and GPU Acceleration\n",
    "## Introduction\n",
    "- **Purpose of the Notebook**: To demonstrate how to price a Snowball option using Monte Carlo simulation, enhanced with GPU acceleration using Numba and CUDA.\n",
    "- **Overview**:\n",
    "  - Snowball Options: Explanation of what they are.\n",
    "  - Monte Carlo Simulation: Importance in option pricing.\n",
    "  - GPU Acceleration: How Numba and CUDA can speed up computations.\n",
    "- **Note**:\n",
    "  - I would assume you have prior knowledge on derivatives, what are they, the common types, nomenclatures, and their importance. If you need to catch up or a refresher, the book Option, Volatility and Pricing is a good place to start. I might write a primer later for reference."
   ]
  },
  {
   "cell_type": "markdown",
   "metadata": {},
   "source": [
    "Derivative: an financial asset derived from another financial asset.\n",
    "Underlying: an financial asset that underlies the derivatives. Focus on the concept of underneath."
   ]
  },
  {
   "cell_type": "markdown",
   "metadata": {},
   "source": [
    "## 1. Snowball Option as a Barrier Option\n",
    "- Definition:\n",
    "  - Snowball option IS a type of barrier option.\n",
    "  - Snowball option IS a type of autocallables.\n",
    "  - Introduction of barrier option can be dated back to xxxx.\n",
    "  - Snowball means it can roll bigger. The longer you hold the higher the payoff.\n",
    "  - A common conspiracy is that the word \"Snowball\" sounds better than \"barrier\", hence the rephrase marketing.\n",
    "  - You having the snowball product means youve sold a put option to the security institutions.\n",
    "- Key Features:\n",
    "  - Knock-In Barrier: A level that, when breached, activates certain payoff conditions.\n",
    "    - Lower than the initial price\n",
    "  - Knock-Out Barrier: A level that, when breached, terminates the option.\n",
    "    - Slightly higher than the initial price\n",
    "  - Observation Dates: When the Knock-in or Knock-out event is determined. Usually in terms of frequency.\n",
    "- Payoff Structure:\n",
    "  - Depends on whether the asset price hits the barriers during the option's life.\n",
    "- Example:\n",
    "  - Lets say there exist such product:\n"
   ]
  },
  {
   "cell_type": "markdown",
   "metadata": {},
   "source": [
    "| Contract Term                   | Example        | Description |\n",
    "|-------------------------------|------------|------------|\n",
    "| Underlying                    |SPY | |\n",
    "| Tenor                         |12 months ||\n",
    "| Initial Observation Day |2024-09-13|The initial observation day is typically the start date or the next trading day|\n",
    "| Initial/Reference Price |$559.09 |The closing price of the underlying asset on the initial observation day |\n",
    "| Knock-out Observation Day     |Monthly| Fixed on a specific day each month. In this example would be 2024-10-13, 2024-11-13, etc...|\n",
    "| Knock-in Observation Day      |Daily |Every trading day from the initial observation day to the final observation day. In this example would be 2024-09-13, 2024-09-14, etc...|\n",
    "| Knock-out                     |103%|Knock-out occurs if the underlying price ≥ 103% * initial reference price|\n",
    "| Knock-in                      |70%|Knock-in occurs if the underlying price < 70% * initial reference price|\n",
    "| Coupon Rate                   |18%| (annualized); specific rate depends on knock-in or knock-out events |\n"
   ]
  },
  {
   "cell_type": "markdown",
   "metadata": {},
   "source": [
    "收益计算规则：\n",
    "\n",
    "1.发生敲出事件，产品提前结束，具体收益需要用年化票息率计算，比如第1个月就敲出，实际持有1个月，18%/12=1.5%，收益=本金*1.5%。\n",
    "\n",
    "2.发生敲入事件，未发生敲出事件。如果到期日股价>期初价格，投资者收益为0；如果到期日股价<期初价格，需承担标的下跌损失。\n",
    "\n",
    "3.如果敲入和敲出都没有发生，产品12个月到期，按约定票息率18%结算。\n",
    "\n",
    "由于最后的收益取决于挂钩标的走势和敲入、敲出事件发生的时间，那么会出现几种情形呢？\n",
    "\n",
    "在12个月期限内，共有5种可能性，逐一分析：\n",
    "\n",
    "股价未下跌30%\n",
    "1. 未敲入，提前敲出；  \n",
    "2. 未敲入，未敲出；\n",
    "\n",
    "股价曾出现跌幅超30%\n",
    "3. 敲入，后敲出；\n",
    "4. 敲入，未敲出，到期日股价≥期初价格；\n",
    "5. 敲入，未敲出，到期日股价<期初价格；  "
   ]
  },
  {
   "cell_type": "markdown",
   "metadata": {},
   "source": [
    "情景1：\n",
    "观察期间，未发生敲入事件，即标的从未跌幅超过30%（标的收盘价<期初参考价*70%，敲入发生），假如在第5个月度观察日敲出（月度观察日一共有12个）\n",
    "收益：18%/12*5=7.5%，如果本金100万，就是7.5万"
   ]
  },
  {
   "cell_type": "markdown",
   "metadata": {},
   "source": [
    "情景2：\n",
    "\n",
    "观察期间，未发生敲入事件，也未发生敲出事件。\n",
    "收益：18%，12个月到期结束。如果本金100万，收益18万。"
   ]
  },
  {
   "cell_type": "markdown",
   "metadata": {},
   "source": [
    "情景3：\n",
    "观察期间，发生敲入事件，然后在第6个月触发敲出事件。\n",
    "收益：18%/12*6=9.0%，如果本金100万，收益9万"
   ]
  },
  {
   "cell_type": "markdown",
   "metadata": {},
   "source": [
    "情景4：\n",
    "\n",
    "观察期间，发生敲入事件，未敲出，到期日股价>期初价格；\n",
    "收益：0，本金依然为100万。"
   ]
  },
  {
   "cell_type": "markdown",
   "metadata": {},
   "source": [
    "情景5：\n",
    "\n",
    "观察期间，发生敲入事件，未敲出，到期日股价<期初价格，跌幅5%\n",
    "发生亏损：亏损为挂钩标的实际跌幅，也就是5%，本金剩余95万，亏损5万"
   ]
  },
  {
   "cell_type": "markdown",
   "metadata": {},
   "source": [
    "上面5种情景中，只有最后一种情况才会发生亏损的，整体是3赚1平1赔。上面的雪球结构表明，只要挂钩标的跌幅不超过30%，投资者不仅不用承担损失，相反，还能获得年化18%左右的收益。即使挂钩标的跌幅超过30%，也只有在到期日股价<期初价格时，才会产生亏损"
   ]
  },
  {
   "cell_type": "markdown",
   "metadata": {},
   "source": [
    "2.1. Payoff Diagram\n",
    "Visual representation of the payoff as a function of the underlying asset price."
   ]
  },
  {
   "cell_type": "markdown",
   "metadata": {},
   "source": [
    "3. Monte Carlo Simulation Basics <a id=\"section3\"></a>\n",
    "Purpose: To estimate the expected payoff by simulating numerous possible asset price paths.\n",
    "Key Concepts:\n",
    "Random Number Generation: Essential for simulating stochastic processes.\n",
    "Time Steps: Discretization of the option's life.\n",
    "Asset Price Dynamics: Usually modeled using Geometric Brownian Motion."
   ]
  },
  {
   "cell_type": "markdown",
   "metadata": {},
   "source": [
    " 3.1 Geometric Brownian Motion (GBM)\n",
    " equation: dS_t = miu * S_t *  dt + sigma * S_t & dW_t\n",
    " S_t: Aseet price at time t\n",
    " miu: drift term (expected return)\n",
    " sigma: volatility\n",
    " dW_t: Wiener process (standard Brownian motion)"
   ]
  },
  {
   "cell_type": "markdown",
   "metadata": {},
   "source": [
    "4. Setting Up the Environment <a id=\"section4\"></a>\n",
    "Prerequisites:\n",
    "Python 3.x\n",
    "Libraries:\n",
    "NumPy: Numerical computations.\n",
    "Matplotlib: Visualization.\n",
    "Numba: Just-in-time compilation to speed up Python code.\n",
    "CUDA: GPU acceleration (requires compatible NVIDIA GPU).\n",
    "Installation Instructions:\n",
    "How to install each library using pip or conda.\n",
    "Verify CUDA installation."
   ]
  },
  {
   "cell_type": "markdown",
   "metadata": {},
   "source": [
    "4.1. Importing Libraries"
   ]
  },
  {
   "cell_type": "markdown",
   "metadata": {},
   "source": [
    "5. Simulating Asset Price Paths <a id=\"section5\"></a>\n",
    "Objective: Write code to simulate the asset price paths using Monte Carlo simulation.\n",
    "Steps:\n",
    "Define simulation parameters (initial price, drift, volatility, time steps).\n",
    "Generate random shocks using standard normal distribution.\n",
    "Update asset prices iteratively."
   ]
  },
  {
   "cell_type": "markdown",
   "metadata": {},
   "source": [
    "5.1. Basic Asset Simulation without GPU\n",
    "\n",
    "def simulate_asset_prices(S0, mu, sigma, T, dt, N):\n",
    "    \"\"\"Simulate N asset price paths over time T with time step dt.\"\"\"\n",
    "    time_steps = int(T / dt)\n",
    "    prices = np.zeros((N, time_steps))\n",
    "    prices[:, 0] = S0\n",
    "    for t in range(1, time_steps):\n",
    "        z = np.random.standard_normal(N)\n",
    "        prices[:, t] = prices[:, t-1] * np.exp((mu - 0.5 * sigma**2) * dt + sigma * np.sqrt(dt) * z)\n",
    "    return prices"
   ]
  },
  {
   "cell_type": "markdown",
   "metadata": {},
   "source": [
    "5.2. Visualizing Sample Paths\n",
    "# Parameters\n",
    "S0 = 100\n",
    "mu = 0.05\n",
    "sigma = 0.2\n",
    "T = 1.0\n",
    "dt = 1/252  # Daily steps\n",
    "N = 10  # Number of paths\n",
    "\n",
    "# Simulate\n",
    "prices = simulate_asset_prices(S0, mu, sigma, T, dt, N)\n",
    "\n",
    "# Plot\n",
    "plt.figure(figsize=(10, 6))\n",
    "for i in range(N):\n",
    "    plt.plot(prices[i])\n",
    "plt.title('Simulated Asset Price Paths')\n",
    "plt.xlabel('Time Steps')\n",
    "plt.ylabel('Asset Price')\n",
    "plt.show()"
   ]
  },
  {
   "cell_type": "markdown",
   "metadata": {},
   "source": [
    "6. Implementing the Snowball Option Payoff <a id=\"section6\"></a>\n",
    "Objective: Calculate the payoff for each simulated path based on the Snowball option conditions.\n",
    "Steps:\n",
    "Initialize barrier flags for knock-in and knock-out.\n",
    "Check barrier conditions at each time step.\n",
    "Compute the final payoff based on the barriers and strike price.\n"
   ]
  },
  {
   "cell_type": "markdown",
   "metadata": {},
   "source": [
    "6.1. Defining the Payoff Function\n",
    "def calculate_payoff(prices, strike, knock_in, knock_out):\n",
    "    \"\"\"Calculate the payoff for each price path.\"\"\"\n",
    "    N = prices.shape[0]\n",
    "    payoffs = np.zeros(N)\n",
    "    for i in range(N):\n",
    "        S_path = prices[i]\n",
    "        barrier_knock_in = np.any(S_path <= knock_in)\n",
    "        barrier_knock_out = np.any(S_path >= knock_out)\n",
    "        S_T = S_path[-1]\n",
    "        if barrier_knock_out:\n",
    "            payoffs[i] = 0.0\n",
    "        elif barrier_knock_in:\n",
    "            payoffs[i] = max(S_T - strike, 0)\n",
    "        else:\n",
    "            payoffs[i] = 0.0\n",
    "    return payoffs"
   ]
  },
  {
   "cell_type": "markdown",
   "metadata": {},
   "source": [
    "6.2. Estimating the Option Price\n",
    "# Parameters\n",
    "strike = 100\n",
    "knock_in = 90\n",
    "knock_out = 110\n",
    "\n",
    "# Calculate payoffs\n",
    "payoffs = calculate_payoff(prices, strike, knock_in, knock_out)\n",
    "\n",
    "# Estimate option price\n",
    "option_price = np.mean(payoffs) * np.exp(-mu * T)\n",
    "print(f\"Estimated Snowball Option Price: {option_price:.4f}\")"
   ]
  },
  {
   "cell_type": "markdown",
   "metadata": {},
   "source": [
    "7. Enhancing Performance with Numba and CUDA <a id=\"section7\"></a>\n",
    "Objective: Accelerate the simulation using GPU parallelism.\n",
    "Introduction to Numba and CUDA:\n",
    "Numba: A JIT compiler that translates a subset of Python and NumPy code into fast machine code.\n",
    "CUDA: A parallel computing platform and API model created by NVIDIA."
   ]
  },
  {
   "cell_type": "markdown",
   "metadata": {},
   "source": [
    "7.1. Setting Up GPU Functions\n",
    "Random Number Generation on GPU:\n",
    "Use xoroshiro128p generators from Numba's CUDA random module.\n",
    "Defining the CUDA Kernel:\n",
    "The kernel function will run on the GPU to simulate asset paths and compute payoffs."
   ]
  },
  {
   "cell_type": "markdown",
   "metadata": {},
   "source": [
    "@cuda.jit\n",
    "def monte_carlo_snowball_kernel(result, dt, rate, volatility, strike, knock_in, knock_out, rng_states, time_steps):\n",
    "    # Kernel code\n",
    "    pass  # Detailed implementation goes here"
   ]
  },
  {
   "cell_type": "markdown",
   "metadata": {},
   "source": [
    "7.2. Implementing the CUDA Kernel\n",
    "Complete the Kernel Function:\n",
    "Initialize asset price.\n",
    "Loop over time steps, updating the asset price.\n",
    "Check barrier conditions.\n",
    "Calculate the payoff.\n",
    "Store the result."
   ]
  },
  {
   "cell_type": "markdown",
   "metadata": {},
   "source": [
    "7.3. Launching the Kernel\n",
    "Set Up Grid and Block Dimensions:\n",
    "\n",
    "threads_per_block = 256\n",
    "blocks_per_grid = (num_simulations + (threads_per_block - 1)) // threads_per_block\n",
    "\n",
    "Create Random Number States:\n",
    "rng_states = create_xoroshiro128p_states(num_simulations, seed=42)\n",
    "\n",
    "Launch the Kernel:\n",
    "monte_carlo_snowball_kernel[blocks_per_grid, threads_per_block](...)"
   ]
  },
  {
   "cell_type": "markdown",
   "metadata": {},
   "source": [
    "8. Visualizing the Simulation Results <a id=\"section8\"></a>\n",
    "Objective: Provide real-time visualization of the running estimate and payoff distribution.\n",
    "Tools:\n",
    "Matplotlib for plotting.\n",
    "plt.ion() for interactive mode."
   ]
  },
  {
   "cell_type": "markdown",
   "metadata": {},
   "source": [
    "8.1. Running Estimate Plot\n",
    "Plot the estimated option price against the number of simulations completed."
   ]
  },
  {
   "cell_type": "markdown",
   "metadata": {},
   "source": [
    "8.2. Histogram of Payoffs\n",
    "Plot the distribution of calculated payoffs."
   ]
  },
  {
   "cell_type": "markdown",
   "metadata": {},
   "source": [
    "8.3. Updating Plots in Real-Time\n",
    "Use a loop to update the plots after each batch of simulations.\n",
    "plt.ion()\n",
    "fig, (ax1, ax2) = plt.subplots(1, 2, figsize=(14, 6))\n",
    "# Loop to update plots\n",
    "plt.ioff()"
   ]
  },
  {
   "cell_type": "markdown",
   "metadata": {},
   "source": [
    "9. Full Application Code <a id=\"section9\"></a>\n",
    "Bringing Everything Together:\n",
    "Combine all functions and code segments.\n",
    "Provide the full code for the application.\n",
    "Ensure the code is well-commented for clarity."
   ]
  },
  {
   "cell_type": "markdown",
   "metadata": {},
   "source": [
    "9.1. Main Execution Function\n",
    "Define a main() function that sets parameters and calls other functions."
   ]
  },
  {
   "cell_type": "markdown",
   "metadata": {},
   "source": [
    "9.2. Running the Simulation\n",
    "Execute the main() function.\n",
    "Display the final estimated option price."
   ]
  },
  {
   "cell_type": "markdown",
   "metadata": {},
   "source": [
    "10. Conclusion <a id=\"section10\"></a>\n",
    "Summary:\n",
    "Successfully priced a Snowball option using Monte Carlo simulation.\n",
    "Enhanced performance using GPU acceleration.\n",
    "Observations:\n",
    "GPU acceleration significantly reduces computation time.\n",
    "Visualization aids in understanding convergence and payoff distribution.\n",
    "Potential Extensions:\n",
    "Incorporate more complex option features.\n",
    "Use quasi-random number generators for variance reduction.\n",
    "Parallelize further using multiple GPUs or distributed computing."
   ]
  },
  {
   "cell_type": "markdown",
   "metadata": {},
   "source": [
    "11. References <a id=\"section11\"></a>\n",
    "Books, articles, and online resources for further reading.\n",
    "Hull, J. C. Options, Futures, and Other Derivatives.\n",
    "Numba and CUDA documentation.\n",
    "[Articles on Snowball options and structured products.](https://xueqiu.com/9322843818/165295388)"
   ]
  }
 ],
 "metadata": {
  "kernelspec": {
   "display_name": "base",
   "language": "python",
   "name": "python3"
  },
  "language_info": {
   "codemirror_mode": {
    "name": "ipython",
    "version": 3
   },
   "file_extension": ".py",
   "mimetype": "text/x-python",
   "name": "python",
   "nbconvert_exporter": "python",
   "pygments_lexer": "ipython3",
   "version": "3.12.3"
  }
 },
 "nbformat": 4,
 "nbformat_minor": 2
}
